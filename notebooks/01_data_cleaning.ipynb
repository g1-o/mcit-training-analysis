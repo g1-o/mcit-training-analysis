{
  "cells": [
    {
      "cell_type": "markdown",
      "metadata": {
        "id": "view-in-github",
        "colab_type": "text"
      },
      "source": [
        "<a href=\"https://colab.research.google.com/github/g1-o/mcit-training-analysis/blob/main/notebooks/01_data_cleaning.ipynb\" target=\"_parent\"><img src=\"https://colab.research.google.com/assets/colab-badge.svg\" alt=\"Open In Colab\"/></a>"
      ]
    },
    {
      "cell_type": "markdown",
      "source": [
        "#Data Loading"
      ],
      "metadata": {
        "id": "uY2PEzm3oCUi"
      }
    },
    {
      "cell_type": "code",
      "execution_count": 1,
      "metadata": {
        "id": "zdIUoaPag_V_",
        "colab": {
          "base_uri": "https://localhost:8080/",
          "height": 446
        },
        "outputId": "7fdb59da-26fd-4cec-ff79-347de172e8c9"
      },
      "outputs": [
        {
          "output_type": "execute_result",
          "data": {
            "text/plain": [
              "                       Id First Name Ar Secound Name Ar Third Name Ar  \\\n",
              "0  '110965439397300536510           ااا             ااا           ااا   \n",
              "1  '113029244487320437796            شش              شش            شش   \n",
              "2  '114898500495790620427            لل              لل            لل   \n",
              "3  '106703513700444713351         احمد               مم            مم   \n",
              "4  '102525449437020224781            سس             سسس          سسسس   \n",
              "\n",
              "  Last Name Ar First Name En Second Name En Third Name En Last Name En  \\\n",
              "0         اااا            aa             aa            aa           aa   \n",
              "1           شش            aa             aa            aa           aa   \n",
              "2           لل            aa             aa            aa           aa   \n",
              "3           مم            Aa             Aa            Aa           Aa   \n",
              "4       سسسسسس           aaa           aaaa         aaaaa        aaaaa   \n",
              "\n",
              "  Gender Type  ...              Faculty        Dept Name  Candidate Type  \\\n",
              "0      Female  ...                  NaN               aa  SchoolGarduate   \n",
              "1      Female  ...           Others-عام     TEST FROM gs        Graduate   \n",
              "2      Female  ...  Others-تجارى  تخصصي              bis         Student   \n",
              "3        Male  ...     Others-هندسي عام             Test        Graduate   \n",
              "4      Female  ...                  NaN  بكالوريوس زراعة               0   \n",
              "\n",
              "  Academic Year Military Status  Graduation Year                    Program  \\\n",
              "0           NaN     أدى الخدمة            1999.0                        NaN   \n",
              "1           NaN             NaN           2025.0  Intensive Diploma Program   \n",
              "2       الثانية      إعفاء مؤقت              NaN                        NaN   \n",
              "3           NaN     إعفاء نهائي           2018.0  Intensive Diploma Program   \n",
              "4           NaN             NaN           2022.0  Intensive Diploma Program   \n",
              "\n",
              "                  Track                        Job Profile  \\\n",
              "0                   NaN                                NaN   \n",
              "1  Software Development        Software Testing Specialist   \n",
              "2                   NaN                                NaN   \n",
              "3  Software Development  Professional Mobile App Developer   \n",
              "4  Applied Technologies        Agriculture Tech Specialist   \n",
              "\n",
              "                  Insert Date  \n",
              "0  2025-04-28T17:04:45.074142  \n",
              "1  2025-05-27T07:40:34.589569  \n",
              "2   2025-05-30T09:48:25.13658  \n",
              "3   2025-05-27T09:03:43.05048  \n",
              "4  2025-05-28T13:03:30.930691  \n",
              "\n",
              "[5 rows x 36 columns]"
            ],
            "text/html": [
              "\n",
              "  <div id=\"df-0c07cad0-0722-4c29-ac96-8c249bf090f7\" class=\"colab-df-container\">\n",
              "    <div>\n",
              "<style scoped>\n",
              "    .dataframe tbody tr th:only-of-type {\n",
              "        vertical-align: middle;\n",
              "    }\n",
              "\n",
              "    .dataframe tbody tr th {\n",
              "        vertical-align: top;\n",
              "    }\n",
              "\n",
              "    .dataframe thead th {\n",
              "        text-align: right;\n",
              "    }\n",
              "</style>\n",
              "<table border=\"1\" class=\"dataframe\">\n",
              "  <thead>\n",
              "    <tr style=\"text-align: right;\">\n",
              "      <th></th>\n",
              "      <th>Id</th>\n",
              "      <th>First Name Ar</th>\n",
              "      <th>Secound Name Ar</th>\n",
              "      <th>Third Name Ar</th>\n",
              "      <th>Last Name Ar</th>\n",
              "      <th>First Name En</th>\n",
              "      <th>Second Name En</th>\n",
              "      <th>Third Name En</th>\n",
              "      <th>Last Name En</th>\n",
              "      <th>Gender Type</th>\n",
              "      <th>...</th>\n",
              "      <th>Faculty</th>\n",
              "      <th>Dept Name</th>\n",
              "      <th>Candidate Type</th>\n",
              "      <th>Academic Year</th>\n",
              "      <th>Military Status</th>\n",
              "      <th>Graduation Year</th>\n",
              "      <th>Program</th>\n",
              "      <th>Track</th>\n",
              "      <th>Job Profile</th>\n",
              "      <th>Insert Date</th>\n",
              "    </tr>\n",
              "  </thead>\n",
              "  <tbody>\n",
              "    <tr>\n",
              "      <th>0</th>\n",
              "      <td>'110965439397300536510</td>\n",
              "      <td>ااا</td>\n",
              "      <td>ااا</td>\n",
              "      <td>ااا</td>\n",
              "      <td>اااا</td>\n",
              "      <td>aa</td>\n",
              "      <td>aa</td>\n",
              "      <td>aa</td>\n",
              "      <td>aa</td>\n",
              "      <td>Female</td>\n",
              "      <td>...</td>\n",
              "      <td>NaN</td>\n",
              "      <td>aa</td>\n",
              "      <td>SchoolGarduate</td>\n",
              "      <td>NaN</td>\n",
              "      <td>أدى الخدمة</td>\n",
              "      <td>1999.0</td>\n",
              "      <td>NaN</td>\n",
              "      <td>NaN</td>\n",
              "      <td>NaN</td>\n",
              "      <td>2025-04-28T17:04:45.074142</td>\n",
              "    </tr>\n",
              "    <tr>\n",
              "      <th>1</th>\n",
              "      <td>'113029244487320437796</td>\n",
              "      <td>شش</td>\n",
              "      <td>شش</td>\n",
              "      <td>شش</td>\n",
              "      <td>شش</td>\n",
              "      <td>aa</td>\n",
              "      <td>aa</td>\n",
              "      <td>aa</td>\n",
              "      <td>aa</td>\n",
              "      <td>Female</td>\n",
              "      <td>...</td>\n",
              "      <td>Others-عام</td>\n",
              "      <td>TEST FROM gs</td>\n",
              "      <td>Graduate</td>\n",
              "      <td>NaN</td>\n",
              "      <td>NaN</td>\n",
              "      <td>2025.0</td>\n",
              "      <td>Intensive Diploma Program</td>\n",
              "      <td>Software Development</td>\n",
              "      <td>Software Testing Specialist</td>\n",
              "      <td>2025-05-27T07:40:34.589569</td>\n",
              "    </tr>\n",
              "    <tr>\n",
              "      <th>2</th>\n",
              "      <td>'114898500495790620427</td>\n",
              "      <td>لل</td>\n",
              "      <td>لل</td>\n",
              "      <td>لل</td>\n",
              "      <td>لل</td>\n",
              "      <td>aa</td>\n",
              "      <td>aa</td>\n",
              "      <td>aa</td>\n",
              "      <td>aa</td>\n",
              "      <td>Female</td>\n",
              "      <td>...</td>\n",
              "      <td>Others-تجارى  تخصصي</td>\n",
              "      <td>bis</td>\n",
              "      <td>Student</td>\n",
              "      <td>الثانية</td>\n",
              "      <td>إعفاء مؤقت</td>\n",
              "      <td>NaN</td>\n",
              "      <td>NaN</td>\n",
              "      <td>NaN</td>\n",
              "      <td>NaN</td>\n",
              "      <td>2025-05-30T09:48:25.13658</td>\n",
              "    </tr>\n",
              "    <tr>\n",
              "      <th>3</th>\n",
              "      <td>'106703513700444713351</td>\n",
              "      <td>احمد</td>\n",
              "      <td>مم</td>\n",
              "      <td>مم</td>\n",
              "      <td>مم</td>\n",
              "      <td>Aa</td>\n",
              "      <td>Aa</td>\n",
              "      <td>Aa</td>\n",
              "      <td>Aa</td>\n",
              "      <td>Male</td>\n",
              "      <td>...</td>\n",
              "      <td>Others-هندسي عام</td>\n",
              "      <td>Test</td>\n",
              "      <td>Graduate</td>\n",
              "      <td>NaN</td>\n",
              "      <td>إعفاء نهائي</td>\n",
              "      <td>2018.0</td>\n",
              "      <td>Intensive Diploma Program</td>\n",
              "      <td>Software Development</td>\n",
              "      <td>Professional Mobile App Developer</td>\n",
              "      <td>2025-05-27T09:03:43.05048</td>\n",
              "    </tr>\n",
              "    <tr>\n",
              "      <th>4</th>\n",
              "      <td>'102525449437020224781</td>\n",
              "      <td>سس</td>\n",
              "      <td>سسس</td>\n",
              "      <td>سسسس</td>\n",
              "      <td>سسسسسس</td>\n",
              "      <td>aaa</td>\n",
              "      <td>aaaa</td>\n",
              "      <td>aaaaa</td>\n",
              "      <td>aaaaa</td>\n",
              "      <td>Female</td>\n",
              "      <td>...</td>\n",
              "      <td>NaN</td>\n",
              "      <td>بكالوريوس زراعة</td>\n",
              "      <td>0</td>\n",
              "      <td>NaN</td>\n",
              "      <td>NaN</td>\n",
              "      <td>2022.0</td>\n",
              "      <td>Intensive Diploma Program</td>\n",
              "      <td>Applied Technologies</td>\n",
              "      <td>Agriculture Tech Specialist</td>\n",
              "      <td>2025-05-28T13:03:30.930691</td>\n",
              "    </tr>\n",
              "  </tbody>\n",
              "</table>\n",
              "<p>5 rows × 36 columns</p>\n",
              "</div>\n",
              "    <div class=\"colab-df-buttons\">\n",
              "\n",
              "  <div class=\"colab-df-container\">\n",
              "    <button class=\"colab-df-convert\" onclick=\"convertToInteractive('df-0c07cad0-0722-4c29-ac96-8c249bf090f7')\"\n",
              "            title=\"Convert this dataframe to an interactive table.\"\n",
              "            style=\"display:none;\">\n",
              "\n",
              "  <svg xmlns=\"http://www.w3.org/2000/svg\" height=\"24px\" viewBox=\"0 -960 960 960\">\n",
              "    <path d=\"M120-120v-720h720v720H120Zm60-500h600v-160H180v160Zm220 220h160v-160H400v160Zm0 220h160v-160H400v160ZM180-400h160v-160H180v160Zm440 0h160v-160H620v160ZM180-180h160v-160H180v160Zm440 0h160v-160H620v160Z\"/>\n",
              "  </svg>\n",
              "    </button>\n",
              "\n",
              "  <style>\n",
              "    .colab-df-container {\n",
              "      display:flex;\n",
              "      gap: 12px;\n",
              "    }\n",
              "\n",
              "    .colab-df-convert {\n",
              "      background-color: #E8F0FE;\n",
              "      border: none;\n",
              "      border-radius: 50%;\n",
              "      cursor: pointer;\n",
              "      display: none;\n",
              "      fill: #1967D2;\n",
              "      height: 32px;\n",
              "      padding: 0 0 0 0;\n",
              "      width: 32px;\n",
              "    }\n",
              "\n",
              "    .colab-df-convert:hover {\n",
              "      background-color: #E2EBFA;\n",
              "      box-shadow: 0px 1px 2px rgba(60, 64, 67, 0.3), 0px 1px 3px 1px rgba(60, 64, 67, 0.15);\n",
              "      fill: #174EA6;\n",
              "    }\n",
              "\n",
              "    .colab-df-buttons div {\n",
              "      margin-bottom: 4px;\n",
              "    }\n",
              "\n",
              "    [theme=dark] .colab-df-convert {\n",
              "      background-color: #3B4455;\n",
              "      fill: #D2E3FC;\n",
              "    }\n",
              "\n",
              "    [theme=dark] .colab-df-convert:hover {\n",
              "      background-color: #434B5C;\n",
              "      box-shadow: 0px 1px 3px 1px rgba(0, 0, 0, 0.15);\n",
              "      filter: drop-shadow(0px 1px 2px rgba(0, 0, 0, 0.3));\n",
              "      fill: #FFFFFF;\n",
              "    }\n",
              "  </style>\n",
              "\n",
              "    <script>\n",
              "      const buttonEl =\n",
              "        document.querySelector('#df-0c07cad0-0722-4c29-ac96-8c249bf090f7 button.colab-df-convert');\n",
              "      buttonEl.style.display =\n",
              "        google.colab.kernel.accessAllowed ? 'block' : 'none';\n",
              "\n",
              "      async function convertToInteractive(key) {\n",
              "        const element = document.querySelector('#df-0c07cad0-0722-4c29-ac96-8c249bf090f7');\n",
              "        const dataTable =\n",
              "          await google.colab.kernel.invokeFunction('convertToInteractive',\n",
              "                                                    [key], {});\n",
              "        if (!dataTable) return;\n",
              "\n",
              "        const docLinkHtml = 'Like what you see? Visit the ' +\n",
              "          '<a target=\"_blank\" href=https://colab.research.google.com/notebooks/data_table.ipynb>data table notebook</a>'\n",
              "          + ' to learn more about interactive tables.';\n",
              "        element.innerHTML = '';\n",
              "        dataTable['output_type'] = 'display_data';\n",
              "        await google.colab.output.renderOutput(dataTable, element);\n",
              "        const docLink = document.createElement('div');\n",
              "        docLink.innerHTML = docLinkHtml;\n",
              "        element.appendChild(docLink);\n",
              "      }\n",
              "    </script>\n",
              "  </div>\n",
              "\n",
              "\n",
              "    <div id=\"df-2f813951-8e37-4575-8ff5-89c3c2993136\">\n",
              "      <button class=\"colab-df-quickchart\" onclick=\"quickchart('df-2f813951-8e37-4575-8ff5-89c3c2993136')\"\n",
              "                title=\"Suggest charts\"\n",
              "                style=\"display:none;\">\n",
              "\n",
              "<svg xmlns=\"http://www.w3.org/2000/svg\" height=\"24px\"viewBox=\"0 0 24 24\"\n",
              "     width=\"24px\">\n",
              "    <g>\n",
              "        <path d=\"M19 3H5c-1.1 0-2 .9-2 2v14c0 1.1.9 2 2 2h14c1.1 0 2-.9 2-2V5c0-1.1-.9-2-2-2zM9 17H7v-7h2v7zm4 0h-2V7h2v10zm4 0h-2v-4h2v4z\"/>\n",
              "    </g>\n",
              "</svg>\n",
              "      </button>\n",
              "\n",
              "<style>\n",
              "  .colab-df-quickchart {\n",
              "      --bg-color: #E8F0FE;\n",
              "      --fill-color: #1967D2;\n",
              "      --hover-bg-color: #E2EBFA;\n",
              "      --hover-fill-color: #174EA6;\n",
              "      --disabled-fill-color: #AAA;\n",
              "      --disabled-bg-color: #DDD;\n",
              "  }\n",
              "\n",
              "  [theme=dark] .colab-df-quickchart {\n",
              "      --bg-color: #3B4455;\n",
              "      --fill-color: #D2E3FC;\n",
              "      --hover-bg-color: #434B5C;\n",
              "      --hover-fill-color: #FFFFFF;\n",
              "      --disabled-bg-color: #3B4455;\n",
              "      --disabled-fill-color: #666;\n",
              "  }\n",
              "\n",
              "  .colab-df-quickchart {\n",
              "    background-color: var(--bg-color);\n",
              "    border: none;\n",
              "    border-radius: 50%;\n",
              "    cursor: pointer;\n",
              "    display: none;\n",
              "    fill: var(--fill-color);\n",
              "    height: 32px;\n",
              "    padding: 0;\n",
              "    width: 32px;\n",
              "  }\n",
              "\n",
              "  .colab-df-quickchart:hover {\n",
              "    background-color: var(--hover-bg-color);\n",
              "    box-shadow: 0 1px 2px rgba(60, 64, 67, 0.3), 0 1px 3px 1px rgba(60, 64, 67, 0.15);\n",
              "    fill: var(--button-hover-fill-color);\n",
              "  }\n",
              "\n",
              "  .colab-df-quickchart-complete:disabled,\n",
              "  .colab-df-quickchart-complete:disabled:hover {\n",
              "    background-color: var(--disabled-bg-color);\n",
              "    fill: var(--disabled-fill-color);\n",
              "    box-shadow: none;\n",
              "  }\n",
              "\n",
              "  .colab-df-spinner {\n",
              "    border: 2px solid var(--fill-color);\n",
              "    border-color: transparent;\n",
              "    border-bottom-color: var(--fill-color);\n",
              "    animation:\n",
              "      spin 1s steps(1) infinite;\n",
              "  }\n",
              "\n",
              "  @keyframes spin {\n",
              "    0% {\n",
              "      border-color: transparent;\n",
              "      border-bottom-color: var(--fill-color);\n",
              "      border-left-color: var(--fill-color);\n",
              "    }\n",
              "    20% {\n",
              "      border-color: transparent;\n",
              "      border-left-color: var(--fill-color);\n",
              "      border-top-color: var(--fill-color);\n",
              "    }\n",
              "    30% {\n",
              "      border-color: transparent;\n",
              "      border-left-color: var(--fill-color);\n",
              "      border-top-color: var(--fill-color);\n",
              "      border-right-color: var(--fill-color);\n",
              "    }\n",
              "    40% {\n",
              "      border-color: transparent;\n",
              "      border-right-color: var(--fill-color);\n",
              "      border-top-color: var(--fill-color);\n",
              "    }\n",
              "    60% {\n",
              "      border-color: transparent;\n",
              "      border-right-color: var(--fill-color);\n",
              "    }\n",
              "    80% {\n",
              "      border-color: transparent;\n",
              "      border-right-color: var(--fill-color);\n",
              "      border-bottom-color: var(--fill-color);\n",
              "    }\n",
              "    90% {\n",
              "      border-color: transparent;\n",
              "      border-bottom-color: var(--fill-color);\n",
              "    }\n",
              "  }\n",
              "</style>\n",
              "\n",
              "      <script>\n",
              "        async function quickchart(key) {\n",
              "          const quickchartButtonEl =\n",
              "            document.querySelector('#' + key + ' button');\n",
              "          quickchartButtonEl.disabled = true;  // To prevent multiple clicks.\n",
              "          quickchartButtonEl.classList.add('colab-df-spinner');\n",
              "          try {\n",
              "            const charts = await google.colab.kernel.invokeFunction(\n",
              "                'suggestCharts', [key], {});\n",
              "          } catch (error) {\n",
              "            console.error('Error during call to suggestCharts:', error);\n",
              "          }\n",
              "          quickchartButtonEl.classList.remove('colab-df-spinner');\n",
              "          quickchartButtonEl.classList.add('colab-df-quickchart-complete');\n",
              "        }\n",
              "        (() => {\n",
              "          let quickchartButtonEl =\n",
              "            document.querySelector('#df-2f813951-8e37-4575-8ff5-89c3c2993136 button');\n",
              "          quickchartButtonEl.style.display =\n",
              "            google.colab.kernel.accessAllowed ? 'block' : 'none';\n",
              "        })();\n",
              "      </script>\n",
              "    </div>\n",
              "\n",
              "    </div>\n",
              "  </div>\n"
            ],
            "application/vnd.google.colaboratory.intrinsic+json": {
              "type": "dataframe",
              "variable_name": "df"
            }
          },
          "metadata": {},
          "execution_count": 1
        }
      ],
      "source": [
        "import pandas as pd\n",
        "\n",
        "df = pd.read_excel(\"Trainees.xlsx\", header=3)\n",
        "df.head()\n"
      ]
    },
    {
      "cell_type": "markdown",
      "source": [
        "#Data Exploration"
      ],
      "metadata": {
        "id": "bDEWckmxoGnw"
      }
    },
    {
      "cell_type": "code",
      "execution_count": 2,
      "metadata": {
        "id": "oX-TGrROihzq",
        "colab": {
          "base_uri": "https://localhost:8080/"
        },
        "outputId": "89ad0850-4cde-481a-d879-ee63805c4ecc"
      },
      "outputs": [
        {
          "output_type": "stream",
          "name": "stdout",
          "text": [
            "<class 'pandas.core.frame.DataFrame'>\n",
            "RangeIndex: 40859 entries, 0 to 40858\n",
            "Data columns (total 36 columns):\n",
            " #   Column             Non-Null Count  Dtype  \n",
            "---  ------             --------------  -----  \n",
            " 0   Id                 40858 non-null  object \n",
            " 1   First Name Ar      40857 non-null  object \n",
            " 2   Secound Name Ar    40857 non-null  object \n",
            " 3   Third Name Ar      40857 non-null  object \n",
            " 4   Last Name Ar       40605 non-null  object \n",
            " 5   First Name En      40857 non-null  object \n",
            " 6   Second Name En     40857 non-null  object \n",
            " 7   Third Name En      40856 non-null  object \n",
            " 8   Last Name En       40557 non-null  object \n",
            " 9   Gender Type        40857 non-null  object \n",
            " 10  Birth Date         40857 non-null  object \n",
            " 11  Email              40857 non-null  object \n",
            " 12  Governorate Code   40857 non-null  object \n",
            " 13  Address            39857 non-null  object \n",
            " 14  City               38599 non-null  object \n",
            " 15  Mobile             40857 non-null  float64\n",
            " 16  Mobile Secondary   31233 non-null  float64\n",
            " 17  Telephone          20203 non-null  float64\n",
            " 18  Linked In Account  29341 non-null  object \n",
            " 19  Profile Image Url  30305 non-null  object \n",
            " 20  Attach Pdf Url     40857 non-null  object \n",
            " 21  National Id        40857 non-null  float64\n",
            " 22  Status             40857 non-null  object \n",
            " 23  Institution Type   39427 non-null  object \n",
            " 24  Grade              39427 non-null  object \n",
            " 25  University         39427 non-null  object \n",
            " 26  Faculty            39427 non-null  object \n",
            " 27  Dept Name          40853 non-null  object \n",
            " 28  Candidate Type     40857 non-null  object \n",
            " 29  Academic Year      19169 non-null  object \n",
            " 30  Military Status    33159 non-null  object \n",
            " 31  Graduation Year    21688 non-null  float64\n",
            " 32  Program            36942 non-null  object \n",
            " 33  Track              36942 non-null  object \n",
            " 34  Job Profile        36942 non-null  object \n",
            " 35  Insert Date        40857 non-null  object \n",
            "dtypes: float64(5), object(31)\n",
            "memory usage: 11.2+ MB\n"
          ]
        }
      ],
      "source": [
        "df.info()"
      ]
    },
    {
      "cell_type": "code",
      "execution_count": 3,
      "metadata": {
        "id": "0ZoQCEk3lYVn"
      },
      "outputs": [],
      "source": [
        "values_to_drop = ['aaa', 'test', 'xxx', 'null', 'n/a', 'aa', 'aaaa', 'aaa', 'aaaaa', 'Aa' ,\"اا\" ,\"شش\"] or len(str(val)) < 3\n",
        "df = df[~df.isin(values_to_drop).any(axis=1)]\n"
      ]
    },
    {
      "cell_type": "code",
      "execution_count": 4,
      "metadata": {
        "id": "ixGPuczymHxg",
        "colab": {
          "base_uri": "https://localhost:8080/"
        },
        "outputId": "4c1ab7bc-e0c7-45af-add9-15e51ca5bbea"
      },
      "outputs": [
        {
          "output_type": "execute_result",
          "data": {
            "text/plain": [
              "Index(['Id', 'First Name Ar', 'Secound Name Ar', 'Third Name Ar',\n",
              "       'Last Name Ar', 'First Name En', 'Second Name En', 'Third Name En',\n",
              "       'Last Name En', 'Gender Type', 'Birth Date', 'Email',\n",
              "       'Governorate Code', 'Address', 'City', 'Mobile', 'Mobile Secondary',\n",
              "       'Telephone', 'Linked In Account', 'Profile Image Url', 'Attach Pdf Url',\n",
              "       'National Id', 'Status', 'Institution Type', 'Grade', 'University',\n",
              "       'Faculty', 'Dept Name', 'Candidate Type', 'Academic Year',\n",
              "       'Military Status', 'Graduation Year', 'Program', 'Track', 'Job Profile',\n",
              "       'Insert Date'],\n",
              "      dtype='object')"
            ]
          },
          "metadata": {},
          "execution_count": 4
        }
      ],
      "source": [
        "df.columns"
      ]
    },
    {
      "cell_type": "markdown",
      "source": [
        "#Data Cleaning"
      ],
      "metadata": {
        "id": "a7yYWmOboOvb"
      }
    },
    {
      "cell_type": "code",
      "execution_count": 5,
      "metadata": {
        "id": "DaSNr5UE-eW5"
      },
      "outputs": [],
      "source": [
        "df.drop(['Id', 'First Name Ar', 'Secound Name Ar', 'Third Name Ar',\n",
        "       'Last Name Ar', 'First Name En', 'Second Name En', 'Third Name En',\n",
        "       'Last Name En', 'Telephone','Profile Image Url', 'Attach Pdf Url', 'Address','Mobile Secondary', 'City' ], axis=1, inplace=True)"
      ]
    },
    {
      "cell_type": "code",
      "execution_count": 6,
      "metadata": {
        "id": "vAx0RagFAgKq",
        "colab": {
          "base_uri": "https://localhost:8080/"
        },
        "outputId": "99958ab7-a7e7-4286-a9a9-d5b0c77fb2a8"
      },
      "outputs": [
        {
          "output_type": "execute_result",
          "data": {
            "text/plain": [
              "Index(['Gender Type', 'Birth Date', 'Email', 'Governorate Code', 'Mobile',\n",
              "       'Linked In Account', 'National Id', 'Status', 'Institution Type',\n",
              "       'Grade', 'University', 'Faculty', 'Dept Name', 'Candidate Type',\n",
              "       'Academic Year', 'Military Status', 'Graduation Year', 'Program',\n",
              "       'Track', 'Job Profile', 'Insert Date'],\n",
              "      dtype='object')"
            ]
          },
          "metadata": {},
          "execution_count": 6
        }
      ],
      "source": [
        "df.columns"
      ]
    },
    {
      "cell_type": "code",
      "execution_count": 7,
      "metadata": {
        "id": "qwVPhY8CBVbh",
        "colab": {
          "base_uri": "https://localhost:8080/",
          "height": 743
        },
        "outputId": "2f79ebf5-f065-439f-ce8c-9a2974b527cd"
      },
      "outputs": [
        {
          "output_type": "execute_result",
          "data": {
            "text/plain": [
              "Gender Type              2\n",
              "Birth Date               2\n",
              "Email                    2\n",
              "Governorate Code         2\n",
              "Mobile                   2\n",
              "Linked In Account    11509\n",
              "National Id              2\n",
              "Status                   2\n",
              "Institution Type      1427\n",
              "Grade                 1427\n",
              "University            1427\n",
              "Faculty               1427\n",
              "Dept Name                6\n",
              "Candidate Type           2\n",
              "Academic Year        21680\n",
              "Military Status       7695\n",
              "Graduation Year      19169\n",
              "Program               3912\n",
              "Track                 3912\n",
              "Job Profile           3912\n",
              "Insert Date              2\n",
              "dtype: int64"
            ],
            "text/html": [
              "<div>\n",
              "<style scoped>\n",
              "    .dataframe tbody tr th:only-of-type {\n",
              "        vertical-align: middle;\n",
              "    }\n",
              "\n",
              "    .dataframe tbody tr th {\n",
              "        vertical-align: top;\n",
              "    }\n",
              "\n",
              "    .dataframe thead th {\n",
              "        text-align: right;\n",
              "    }\n",
              "</style>\n",
              "<table border=\"1\" class=\"dataframe\">\n",
              "  <thead>\n",
              "    <tr style=\"text-align: right;\">\n",
              "      <th></th>\n",
              "      <th>0</th>\n",
              "    </tr>\n",
              "  </thead>\n",
              "  <tbody>\n",
              "    <tr>\n",
              "      <th>Gender Type</th>\n",
              "      <td>2</td>\n",
              "    </tr>\n",
              "    <tr>\n",
              "      <th>Birth Date</th>\n",
              "      <td>2</td>\n",
              "    </tr>\n",
              "    <tr>\n",
              "      <th>Email</th>\n",
              "      <td>2</td>\n",
              "    </tr>\n",
              "    <tr>\n",
              "      <th>Governorate Code</th>\n",
              "      <td>2</td>\n",
              "    </tr>\n",
              "    <tr>\n",
              "      <th>Mobile</th>\n",
              "      <td>2</td>\n",
              "    </tr>\n",
              "    <tr>\n",
              "      <th>Linked In Account</th>\n",
              "      <td>11509</td>\n",
              "    </tr>\n",
              "    <tr>\n",
              "      <th>National Id</th>\n",
              "      <td>2</td>\n",
              "    </tr>\n",
              "    <tr>\n",
              "      <th>Status</th>\n",
              "      <td>2</td>\n",
              "    </tr>\n",
              "    <tr>\n",
              "      <th>Institution Type</th>\n",
              "      <td>1427</td>\n",
              "    </tr>\n",
              "    <tr>\n",
              "      <th>Grade</th>\n",
              "      <td>1427</td>\n",
              "    </tr>\n",
              "    <tr>\n",
              "      <th>University</th>\n",
              "      <td>1427</td>\n",
              "    </tr>\n",
              "    <tr>\n",
              "      <th>Faculty</th>\n",
              "      <td>1427</td>\n",
              "    </tr>\n",
              "    <tr>\n",
              "      <th>Dept Name</th>\n",
              "      <td>6</td>\n",
              "    </tr>\n",
              "    <tr>\n",
              "      <th>Candidate Type</th>\n",
              "      <td>2</td>\n",
              "    </tr>\n",
              "    <tr>\n",
              "      <th>Academic Year</th>\n",
              "      <td>21680</td>\n",
              "    </tr>\n",
              "    <tr>\n",
              "      <th>Military Status</th>\n",
              "      <td>7695</td>\n",
              "    </tr>\n",
              "    <tr>\n",
              "      <th>Graduation Year</th>\n",
              "      <td>19169</td>\n",
              "    </tr>\n",
              "    <tr>\n",
              "      <th>Program</th>\n",
              "      <td>3912</td>\n",
              "    </tr>\n",
              "    <tr>\n",
              "      <th>Track</th>\n",
              "      <td>3912</td>\n",
              "    </tr>\n",
              "    <tr>\n",
              "      <th>Job Profile</th>\n",
              "      <td>3912</td>\n",
              "    </tr>\n",
              "    <tr>\n",
              "      <th>Insert Date</th>\n",
              "      <td>2</td>\n",
              "    </tr>\n",
              "  </tbody>\n",
              "</table>\n",
              "</div><br><label><b>dtype:</b> int64</label>"
            ]
          },
          "metadata": {},
          "execution_count": 7
        }
      ],
      "source": [
        "df.isnull().sum()"
      ]
    },
    {
      "cell_type": "code",
      "execution_count": 8,
      "metadata": {
        "id": "Ffc5RwlRAGsz",
        "colab": {
          "base_uri": "https://localhost:8080/"
        },
        "outputId": "76619450-36a6-4e44-c090-41ea43bb6e53"
      },
      "outputs": [
        {
          "output_type": "execute_result",
          "data": {
            "text/plain": [
              "36935"
            ]
          },
          "metadata": {},
          "execution_count": 8
        }
      ],
      "source": [
        "df.dropna(subset=['Program'], inplace=True)\n",
        "df.shape[0]"
      ]
    },
    {
      "cell_type": "code",
      "execution_count": 9,
      "metadata": {
        "id": "DXaVmRs2FtR7",
        "colab": {
          "base_uri": "https://localhost:8080/"
        },
        "outputId": "49243a1b-e7ad-431f-9b44-26f3042cfa0b"
      },
      "outputs": [
        {
          "output_type": "execute_result",
          "data": {
            "text/plain": [
              "array(['الثالثة', 'الرابعة', nan, 'الأولى', 'الثانية', 'الخامسة',\n",
              "       'السادسة', 'إعدادي'], dtype=object)"
            ]
          },
          "metadata": {},
          "execution_count": 9
        }
      ],
      "source": [
        "df['Academic Year'].unique()"
      ]
    },
    {
      "cell_type": "code",
      "execution_count": 10,
      "metadata": {
        "id": "-G_DURslBNxz",
        "colab": {
          "base_uri": "https://localhost:8080/"
        },
        "outputId": "b31f3b64-a617-4807-c1d9-042bbcf19c05"
      },
      "outputs": [
        {
          "output_type": "execute_result",
          "data": {
            "text/plain": [
              "array([  nan, 2025., 2024., 2013., 2023., 2017., 2009., 2022., 2016.,\n",
              "       2018., 2021., 2015., 2019., 2020., 2012., 2014., 2003., 2000.,\n",
              "       1999., 2011., 2010., 2006., 2008., 2002., 2005., 2004., 2001.,\n",
              "       2028., 2007., 2027., 1993., 1997., 2026., 1995., 1998., 1996.,\n",
              "       1991., 1987., 1992., 1989., 2029., 1990., 1979., 1994., 1976.,\n",
              "          0., 2030.])"
            ]
          },
          "metadata": {},
          "execution_count": 10
        }
      ],
      "source": [
        "df['Graduation Year'].unique()"
      ]
    },
    {
      "cell_type": "code",
      "execution_count": 11,
      "metadata": {
        "id": "9Dp48MJZBZNT"
      },
      "outputs": [],
      "source": [
        "df['Graduation Year'] = df['Graduation Year'].fillna('Student')\n",
        "df['Academic Year'] = df['Academic Year'].fillna('Graduate')"
      ]
    },
    {
      "cell_type": "code",
      "execution_count": 12,
      "metadata": {
        "id": "oGfoYc7COAos"
      },
      "outputs": [],
      "source": [
        "df['Grade'] = df['Grade'].fillna('Unknown')\n",
        "df['University'] = df['University'].fillna('Unknown')\n"
      ]
    },
    {
      "cell_type": "code",
      "execution_count": 13,
      "metadata": {
        "id": "fvdWzrpQOdts"
      },
      "outputs": [],
      "source": [
        "df['LinkedIn_Status'] = df['Linked In Account'].apply(\n",
        "    lambda x: 'Has Account' if str(x).strip() else 'No Account'\n",
        ")"
      ]
    },
    {
      "cell_type": "code",
      "execution_count": 14,
      "metadata": {
        "id": "f0CRp5LectyI",
        "colab": {
          "base_uri": "https://localhost:8080/"
        },
        "outputId": "d6cc0648-051c-4144-ace3-ec461f915f78"
      },
      "outputs": [
        {
          "output_type": "execute_result",
          "data": {
            "text/plain": [
              "array(['Student', 'Graduate', 'SchoolGarduate', '0'], dtype=object)"
            ]
          },
          "metadata": {},
          "execution_count": 14
        }
      ],
      "source": [
        "df['Candidate Type'].unique()\n"
      ]
    },
    {
      "cell_type": "code",
      "execution_count": 15,
      "metadata": {
        "id": "VbBNCN9olSmG"
      },
      "outputs": [],
      "source": [
        "def infer_candidate_type(text):\n",
        "    text = str(text).strip()\n",
        "\n",
        "    if any(word in text for word in ['بكالوريوس', 'ليسانس','معهد']):\n",
        "        return 'Graduate'\n",
        "    elif 'دبلوم' in text:\n",
        "        return 'SchoolGarduate'\n",
        "    elif 'طالب' in text or 'طالبه' in text or 'ثانوية' in text:\n",
        "        return 'Student'\n",
        "    elif text in ['', 'nan', 'ممممم']:\n",
        "        return 'Unknown'\n",
        "    else:\n",
        "        return 'Other'\n",
        "\n",
        "# Replace only '0' values in Candidate Type\n",
        "df['Candidate Type'] = df.apply(\n",
        "    lambda row: infer_candidate_type(row['Dept Name']) if row['Candidate Type'] == '0' else row['Candidate Type'],\n",
        "    axis=1\n",
        ")\n"
      ]
    },
    {
      "cell_type": "code",
      "execution_count": 16,
      "metadata": {
        "id": "VrnyP5G2lmG5",
        "colab": {
          "base_uri": "https://localhost:8080/"
        },
        "outputId": "8245d0ee-2da5-4744-8d24-b424a80eef58"
      },
      "outputs": [
        {
          "output_type": "execute_result",
          "data": {
            "text/plain": [
              "array(['Student', 'Graduate', 'SchoolGarduate', 'Other'], dtype=object)"
            ]
          },
          "metadata": {},
          "execution_count": 16
        }
      ],
      "source": [
        "df['Candidate Type'].unique()\n"
      ]
    },
    {
      "cell_type": "code",
      "execution_count": 17,
      "metadata": {
        "id": "bzM3Vk7GskQQ"
      },
      "outputs": [],
      "source": [
        "df = df[df['Candidate Type'] != 'Other']\n"
      ]
    },
    {
      "cell_type": "code",
      "execution_count": 18,
      "metadata": {
        "id": "q32mc4Tl5Kxg"
      },
      "outputs": [],
      "source": [
        "df.loc[df['Faculty'].isna(), 'Faculty'] = df.loc[df['Faculty'].isna(), 'Candidate Type']\n"
      ]
    },
    {
      "cell_type": "code",
      "execution_count": 19,
      "metadata": {
        "id": "mQLUlFT8nkyv"
      },
      "outputs": [],
      "source": [
        "def categorize_Faculty(name):\n",
        "    name = str(name).strip()\n",
        "\n",
        "    if name in [\"\", \"0\", \"nan\", \"ممممم\"]:\n",
        "        return name  # keep it as-is\n",
        "\n",
        "    if any(x in name for x in [\"هندسة\", \"Engineering\", \"عمرانى\", \" للطاقة \", \"Others-هندسي تخصصي\", \"Others-هندسي عام\", \"Field of Engineering\"]):\n",
        "        return \"Engineering\"\n",
        "\n",
        "    elif any(x in name for x in [\"تربية\", \"رياض الأطفال\", \"رياض الاطفال\",\"رياض اطفال\"]):\n",
        "        return \"Education\"\n",
        "\n",
        "    elif any(x in name for x in [\"صيدلة\", \"للصحة العامة\",\"تمريض\", \"طب\", \"أسنان\",\"Doctor of Pharmacy\", \"علاج طبيعي\", \"Medicine\", \"الصحة\", \"Field of Medicine\", \"Physical Therapy\", \"Dentisty\"]):\n",
        "        return \"Medicine & Nursing\"\n",
        "\n",
        "    elif any(x in name for x in [\"تجارة\", \"إدارة الأعمال\", \"العلاقات الصناعية\", \"اقتصاد\", \"تمويل\", \"بزنس\", \"Business\", \"الأعمال\", \"إدارة\", \"ادارة\", \"الأدارة\", \"للإدارة\", \"الإدارة\", \"التسويق\", \"تجارى\", \"Administrative\"]):\n",
        "        return \"Business & Commerce\"\n",
        "\n",
        "    elif any(x in name for x in [\"حاسب\", \"تكنولوجيا\", \"نظم\", \"معلومات\", \"ذكاء\", \"تقنيات\", \"تكنولوجية\", \"التنمية التكنولوجية\", \"التكنولوجي\"]):\n",
        "        return \"Technology & Computer\"\n",
        "\n",
        "    elif any(x in name for x in [\"علوم\", \"Science\", \"Basic\"]):\n",
        "        return \"Science\"\n",
        "\n",
        "    elif any(x in name for x in [\"آداب\", \"حقوق\", \"شريعة\", \"لغة\", \"لغات\", \"صحافة\", \"اللغات\", \"السن\", \"الأزهرية\", \"لحضارات\", \"الازهرية\", \"الأعلام\", \"للأعلام\", \"إعلام\", \"الألسن\", \"الاثار\", \"الأثار\", \"الآثار\", \"إنسانية\", \"اعلام\", \"اتصال\", \"دعوة\", \"أصول\", \"الاداب\", \"الأداب\", \"اجنماعية\", \"اسلامية\", \"الأسلامية\", \"خدمة اجتماعية\", \"قانون\", \"الاجنماعية\", \"دراسات\", \"خدمة\"]):\n",
        "        return \"Humanities & Social Science\"\n",
        "\n",
        "    elif any(x in name for x in [\"فنون\", \"موسيقى\"]):\n",
        "        return \"Arts\"\n",
        "\n",
        "    elif any(x in name for x in [\"سياحة\", \"فندقة\", \"الضيافة\"]):\n",
        "        return \"Tourism & Hospitality\"\n",
        "\n",
        "    elif any(x in name for x in [\"نقل دولى\", \"لوجستيات\", \"لوجيستيات\", \"اللوجستية\", \"اللوجيستية\", \"الامداد\",\"النقل الدولى واللوجيستات\"]):\n",
        "        return \"Logistics & Supply Chain\"\n",
        "\n",
        "    elif any(x in name for x in [\"زراعة\", \"بيطري\", \"استزراع\", \"زراعات\", \"الثروة السمكية\", \"الزراعي\"]):\n",
        "        return \"Agriculture & Veterinary\"\n",
        "\n",
        "    elif any(x in name for x in [\"رياضة\", \"تربية رياضية\"]):\n",
        "        return \"Physical Education\"\n",
        "\n",
        "    elif any(x in name for x in [\"البرامج الدولية\", \"التعلم المستمر\"]):\n",
        "        return \"Specialized Programs\"\n",
        "\n",
        "    elif any(x in name for x in [\"تعليم صناعى\", \"لتعليم الصناعى\"]):\n",
        "        return \"Industrial Education\"\n",
        "\n",
        "    else:\n",
        "        return name  # keep original value if no match found\n"
      ]
    },
    {
      "cell_type": "code",
      "execution_count": 20,
      "metadata": {
        "id": "wjSJWRPu_b7j"
      },
      "outputs": [],
      "source": [
        "df[\"Faculty_category\"] = df[\"Faculty\"].apply(categorize_Faculty)\n"
      ]
    },
    {
      "cell_type": "code",
      "execution_count": 21,
      "metadata": {
        "id": "yE-wwb0Yn0-r",
        "colab": {
          "base_uri": "https://localhost:8080/"
        },
        "outputId": "6d839fd6-a540-4817-ad65-339006360088"
      },
      "outputs": [
        {
          "output_type": "execute_result",
          "data": {
            "text/plain": [
              "array(['Technology & Computer', 'Education', 'Engineering',\n",
              "       'Business & Commerce', 'Science', 'Others-عام-مؤهل فوق متوسط',\n",
              "       'Humanities & Social Science', 'Agriculture & Veterinary',\n",
              "       'SchoolGarduate', 'Tourism & Hospitality',\n",
              "       'Logistics & Supply Chain', 'Industrial Education', 'Others-عام',\n",
              "       'Medicine & Nursing', 'Arts', 'Graduate', 'Specialized Programs',\n",
              "       'Student'], dtype=object)"
            ]
          },
          "metadata": {},
          "execution_count": 21
        }
      ],
      "source": [
        "df[\"Faculty_category\"].unique()"
      ]
    },
    {
      "cell_type": "code",
      "execution_count": 22,
      "metadata": {
        "id": "ocXZrGYJj2fD"
      },
      "outputs": [],
      "source": [
        "df = df[~df['Faculty_category'].isin([ 'Others-عام', 'Others-عام-مؤهل فوق متوسط'])]\n"
      ]
    },
    {
      "cell_type": "code",
      "execution_count": 23,
      "metadata": {
        "id": "dULNWp-vkYyY",
        "colab": {
          "base_uri": "https://localhost:8080/",
          "height": 617
        },
        "outputId": "f269c98c-baf6-4b54-b254-0e76b5e84656"
      },
      "outputs": [
        {
          "output_type": "execute_result",
          "data": {
            "text/plain": [
              "Faculty_category\n",
              "Technology & Computer          11356\n",
              "Business & Commerce             6675\n",
              "Engineering                     6186\n",
              "Humanities & Social Science     4736\n",
              "Education                       1829\n",
              "Agriculture & Veterinary        1603\n",
              "Science                         1532\n",
              "SchoolGarduate                  1168\n",
              "Medicine & Nursing              1027\n",
              "Tourism & Hospitality            178\n",
              "Arts                             130\n",
              "Industrial Education              81\n",
              "Logistics & Supply Chain          19\n",
              "Graduate                          14\n",
              "Specialized Programs               3\n",
              "Student                            3\n",
              "Name: count, dtype: int64"
            ],
            "text/html": [
              "<div>\n",
              "<style scoped>\n",
              "    .dataframe tbody tr th:only-of-type {\n",
              "        vertical-align: middle;\n",
              "    }\n",
              "\n",
              "    .dataframe tbody tr th {\n",
              "        vertical-align: top;\n",
              "    }\n",
              "\n",
              "    .dataframe thead th {\n",
              "        text-align: right;\n",
              "    }\n",
              "</style>\n",
              "<table border=\"1\" class=\"dataframe\">\n",
              "  <thead>\n",
              "    <tr style=\"text-align: right;\">\n",
              "      <th></th>\n",
              "      <th>count</th>\n",
              "    </tr>\n",
              "    <tr>\n",
              "      <th>Faculty_category</th>\n",
              "      <th></th>\n",
              "    </tr>\n",
              "  </thead>\n",
              "  <tbody>\n",
              "    <tr>\n",
              "      <th>Technology &amp; Computer</th>\n",
              "      <td>11356</td>\n",
              "    </tr>\n",
              "    <tr>\n",
              "      <th>Business &amp; Commerce</th>\n",
              "      <td>6675</td>\n",
              "    </tr>\n",
              "    <tr>\n",
              "      <th>Engineering</th>\n",
              "      <td>6186</td>\n",
              "    </tr>\n",
              "    <tr>\n",
              "      <th>Humanities &amp; Social Science</th>\n",
              "      <td>4736</td>\n",
              "    </tr>\n",
              "    <tr>\n",
              "      <th>Education</th>\n",
              "      <td>1829</td>\n",
              "    </tr>\n",
              "    <tr>\n",
              "      <th>Agriculture &amp; Veterinary</th>\n",
              "      <td>1603</td>\n",
              "    </tr>\n",
              "    <tr>\n",
              "      <th>Science</th>\n",
              "      <td>1532</td>\n",
              "    </tr>\n",
              "    <tr>\n",
              "      <th>SchoolGarduate</th>\n",
              "      <td>1168</td>\n",
              "    </tr>\n",
              "    <tr>\n",
              "      <th>Medicine &amp; Nursing</th>\n",
              "      <td>1027</td>\n",
              "    </tr>\n",
              "    <tr>\n",
              "      <th>Tourism &amp; Hospitality</th>\n",
              "      <td>178</td>\n",
              "    </tr>\n",
              "    <tr>\n",
              "      <th>Arts</th>\n",
              "      <td>130</td>\n",
              "    </tr>\n",
              "    <tr>\n",
              "      <th>Industrial Education</th>\n",
              "      <td>81</td>\n",
              "    </tr>\n",
              "    <tr>\n",
              "      <th>Logistics &amp; Supply Chain</th>\n",
              "      <td>19</td>\n",
              "    </tr>\n",
              "    <tr>\n",
              "      <th>Graduate</th>\n",
              "      <td>14</td>\n",
              "    </tr>\n",
              "    <tr>\n",
              "      <th>Specialized Programs</th>\n",
              "      <td>3</td>\n",
              "    </tr>\n",
              "    <tr>\n",
              "      <th>Student</th>\n",
              "      <td>3</td>\n",
              "    </tr>\n",
              "  </tbody>\n",
              "</table>\n",
              "</div><br><label><b>dtype:</b> int64</label>"
            ]
          },
          "metadata": {},
          "execution_count": 23
        }
      ],
      "source": [
        "df['Faculty_category'].value_counts()"
      ]
    },
    {
      "cell_type": "code",
      "execution_count": 24,
      "metadata": {
        "id": "g3LTHaDVUPmL"
      },
      "outputs": [],
      "source": [
        "df['Age'] = pd.to_datetime('today').year - pd.to_datetime(df['Birth Date']).dt.year\n"
      ]
    },
    {
      "cell_type": "code",
      "execution_count": 25,
      "metadata": {
        "id": "Lsr_vTpTUa59",
        "colab": {
          "base_uri": "https://localhost:8080/"
        },
        "outputId": "7204eebf-3637-4330-f393-5216de0298a2"
      },
      "outputs": [
        {
          "output_type": "execute_result",
          "data": {
            "text/plain": [
              "array([22, 23, 24, 26, 34, 20, 32, 36, 29, 19, 25, 27, 21, 33, 30, 35, 31,\n",
              "       28, 18, 45, 37, 46, 43, 38, 51, 39, 48, 40, 41, 42, 47, 44, 56, 50,\n",
              "       53, 54, 49, 17, 59, 55, 60, 58, 52, 57, 16], dtype=int32)"
            ]
          },
          "metadata": {},
          "execution_count": 25
        }
      ],
      "source": [
        "df['Age'].unique()"
      ]
    },
    {
      "cell_type": "code",
      "execution_count": 26,
      "metadata": {
        "id": "9EVhH9RBgwe5"
      },
      "outputs": [],
      "source": [
        "df[['Governorate Code', 'Governorate']] = df['Governorate Code'].str.split(' - ', expand=True)"
      ]
    },
    {
      "cell_type": "code",
      "execution_count": 27,
      "metadata": {
        "id": "BQ94vHeqTUsQ"
      },
      "outputs": [],
      "source": [
        "df.loc[df['Gender Type'] == 'Female', 'Military Status'] = df.loc[df['Gender Type'] == 'Female', 'Military Status'].fillna('Not Applicable')"
      ]
    },
    {
      "cell_type": "code",
      "execution_count": 28,
      "metadata": {
        "id": "BFduFdy3hS06",
        "colab": {
          "base_uri": "https://localhost:8080/",
          "height": 241
        },
        "outputId": "fc357356-479e-4f24-b005-b95633aa18ef"
      },
      "outputs": [
        {
          "output_type": "execute_result",
          "data": {
            "text/plain": [
              "Military Status\n",
              "إعفاء مؤقت        19856\n",
              "Not Applicable     7009\n",
              "إعفاء نهائي        4925\n",
              "أدى الخدمة         4749\n",
              "Name: count, dtype: int64"
            ],
            "text/html": [
              "<div>\n",
              "<style scoped>\n",
              "    .dataframe tbody tr th:only-of-type {\n",
              "        vertical-align: middle;\n",
              "    }\n",
              "\n",
              "    .dataframe tbody tr th {\n",
              "        vertical-align: top;\n",
              "    }\n",
              "\n",
              "    .dataframe thead th {\n",
              "        text-align: right;\n",
              "    }\n",
              "</style>\n",
              "<table border=\"1\" class=\"dataframe\">\n",
              "  <thead>\n",
              "    <tr style=\"text-align: right;\">\n",
              "      <th></th>\n",
              "      <th>count</th>\n",
              "    </tr>\n",
              "    <tr>\n",
              "      <th>Military Status</th>\n",
              "      <th></th>\n",
              "    </tr>\n",
              "  </thead>\n",
              "  <tbody>\n",
              "    <tr>\n",
              "      <th>إعفاء مؤقت</th>\n",
              "      <td>19856</td>\n",
              "    </tr>\n",
              "    <tr>\n",
              "      <th>Not Applicable</th>\n",
              "      <td>7009</td>\n",
              "    </tr>\n",
              "    <tr>\n",
              "      <th>إعفاء نهائي</th>\n",
              "      <td>4925</td>\n",
              "    </tr>\n",
              "    <tr>\n",
              "      <th>أدى الخدمة</th>\n",
              "      <td>4749</td>\n",
              "    </tr>\n",
              "  </tbody>\n",
              "</table>\n",
              "</div><br><label><b>dtype:</b> int64</label>"
            ]
          },
          "metadata": {},
          "execution_count": 28
        }
      ],
      "source": [
        "df['Military Status'].value_counts()"
      ]
    },
    {
      "cell_type": "code",
      "execution_count": 29,
      "metadata": {
        "id": "6_iAiDEzhbwq",
        "colab": {
          "base_uri": "https://localhost:8080/",
          "height": 241
        },
        "outputId": "b5b2761e-22b3-475b-8647-ad4690aa3545"
      },
      "outputs": [
        {
          "output_type": "execute_result",
          "data": {
            "text/plain": [
              "Military Status\n",
              "Temporary Exemption    19856\n",
              "Not Applicable          7009\n",
              "Final Exemption         4925\n",
              "Completed Service       4749\n",
              "Name: count, dtype: int64"
            ],
            "text/html": [
              "<div>\n",
              "<style scoped>\n",
              "    .dataframe tbody tr th:only-of-type {\n",
              "        vertical-align: middle;\n",
              "    }\n",
              "\n",
              "    .dataframe tbody tr th {\n",
              "        vertical-align: top;\n",
              "    }\n",
              "\n",
              "    .dataframe thead th {\n",
              "        text-align: right;\n",
              "    }\n",
              "</style>\n",
              "<table border=\"1\" class=\"dataframe\">\n",
              "  <thead>\n",
              "    <tr style=\"text-align: right;\">\n",
              "      <th></th>\n",
              "      <th>count</th>\n",
              "    </tr>\n",
              "    <tr>\n",
              "      <th>Military Status</th>\n",
              "      <th></th>\n",
              "    </tr>\n",
              "  </thead>\n",
              "  <tbody>\n",
              "    <tr>\n",
              "      <th>Temporary Exemption</th>\n",
              "      <td>19856</td>\n",
              "    </tr>\n",
              "    <tr>\n",
              "      <th>Not Applicable</th>\n",
              "      <td>7009</td>\n",
              "    </tr>\n",
              "    <tr>\n",
              "      <th>Final Exemption</th>\n",
              "      <td>4925</td>\n",
              "    </tr>\n",
              "    <tr>\n",
              "      <th>Completed Service</th>\n",
              "      <td>4749</td>\n",
              "    </tr>\n",
              "  </tbody>\n",
              "</table>\n",
              "</div><br><label><b>dtype:</b> int64</label>"
            ]
          },
          "metadata": {},
          "execution_count": 29
        }
      ],
      "source": [
        "df['Military Status']=df['Military Status'].replace({'إعفاء مؤقت': 'Temporary Exemption',\n",
        "    'إعفاء نهائي': 'Final Exemption', 'أدى الخدمة ': 'Completed Service'})\n",
        "df['Military Status'].value_counts()"
      ]
    },
    {
      "cell_type": "code",
      "execution_count": 30,
      "metadata": {
        "id": "4i9JLtv_-1zB",
        "colab": {
          "base_uri": "https://localhost:8080/",
          "height": 366
        },
        "outputId": "81b4058c-bcb9-4e1e-8ed6-d061d176a491"
      },
      "outputs": [
        {
          "output_type": "execute_result",
          "data": {
            "text/plain": [
              "Academic Year\n",
              "Graduate                        19435\n",
              "Third Year                       5472\n",
              "Fourth Year                      4590\n",
              "Second Year                      3637\n",
              "First Year                       2735\n",
              "Fifth Year                        558\n",
              "Engineering Preparatory Year       65\n",
              "Sixth Year                         48\n",
              "Name: count, dtype: int64"
            ],
            "text/html": [
              "<div>\n",
              "<style scoped>\n",
              "    .dataframe tbody tr th:only-of-type {\n",
              "        vertical-align: middle;\n",
              "    }\n",
              "\n",
              "    .dataframe tbody tr th {\n",
              "        vertical-align: top;\n",
              "    }\n",
              "\n",
              "    .dataframe thead th {\n",
              "        text-align: right;\n",
              "    }\n",
              "</style>\n",
              "<table border=\"1\" class=\"dataframe\">\n",
              "  <thead>\n",
              "    <tr style=\"text-align: right;\">\n",
              "      <th></th>\n",
              "      <th>count</th>\n",
              "    </tr>\n",
              "    <tr>\n",
              "      <th>Academic Year</th>\n",
              "      <th></th>\n",
              "    </tr>\n",
              "  </thead>\n",
              "  <tbody>\n",
              "    <tr>\n",
              "      <th>Graduate</th>\n",
              "      <td>19435</td>\n",
              "    </tr>\n",
              "    <tr>\n",
              "      <th>Third Year</th>\n",
              "      <td>5472</td>\n",
              "    </tr>\n",
              "    <tr>\n",
              "      <th>Fourth Year</th>\n",
              "      <td>4590</td>\n",
              "    </tr>\n",
              "    <tr>\n",
              "      <th>Second Year</th>\n",
              "      <td>3637</td>\n",
              "    </tr>\n",
              "    <tr>\n",
              "      <th>First Year</th>\n",
              "      <td>2735</td>\n",
              "    </tr>\n",
              "    <tr>\n",
              "      <th>Fifth Year</th>\n",
              "      <td>558</td>\n",
              "    </tr>\n",
              "    <tr>\n",
              "      <th>Engineering Preparatory Year</th>\n",
              "      <td>65</td>\n",
              "    </tr>\n",
              "    <tr>\n",
              "      <th>Sixth Year</th>\n",
              "      <td>48</td>\n",
              "    </tr>\n",
              "  </tbody>\n",
              "</table>\n",
              "</div><br><label><b>dtype:</b> int64</label>"
            ]
          },
          "metadata": {},
          "execution_count": 30
        }
      ],
      "source": [
        "df['Academic Year']=df['Academic Year'].replace({'إعدادي': 'Engineering Preparatory Year',\n",
        "    'الأولى': 'First Year',\n",
        "    'الثانية': 'Second Year',\n",
        "    'الثالثة': 'Third Year',\n",
        "    'الرابعة': 'Fourth Year',\n",
        "    'الخامسة': 'Fifth Year',\n",
        "    'السادسة': 'Sixth Year',\n",
        "    'nan': 'Unknown'})\n",
        "df['Academic Year'].value_counts()"
      ]
    },
    {
      "cell_type": "code",
      "execution_count": 31,
      "metadata": {
        "id": "faDzadHZTSu4"
      },
      "outputs": [],
      "source": [
        "df['Mobile']=df['Mobile'].astype(str)\n",
        "df['National Id']=df['National Id'].astype(int)"
      ]
    },
    {
      "cell_type": "code",
      "source": [
        "df['Governorate'].value_counts()"
      ],
      "metadata": {
        "colab": {
          "base_uri": "https://localhost:8080/",
          "height": 962
        },
        "id": "0ABcCo-wLOJl",
        "outputId": "cc09329f-4958-4df7-c697-e42f21ae1b35"
      },
      "execution_count": 32,
      "outputs": [
        {
          "output_type": "execute_result",
          "data": {
            "text/plain": [
              "Governorate\n",
              "Cairo             7042\n",
              "Giza              4628\n",
              "Alexandria        2819\n",
              "Dakahlia          2399\n",
              "Sharkia           2319\n",
              "Qaliubiya         2219\n",
              "Gharbiya          2126\n",
              "Menofia           2008\n",
              "Assiut            1259\n",
              "Beheira           1238\n",
              "Minya             1206\n",
              "Beni Suef         1056\n",
              "Sohag             1028\n",
              "Kafr Al sheikh     949\n",
              "Fayoum             934\n",
              "Qena               659\n",
              "Damietta           606\n",
              "Ismailia           467\n",
              "Aswan              311\n",
              "Suez               281\n",
              "Port Said          263\n",
              "Luxor              250\n",
              "Red Sea            143\n",
              "North Sinai        105\n",
              "New Valley          97\n",
              "Marsa Matrouh       82\n",
              "South Sinai         46\n",
              "Name: count, dtype: int64"
            ],
            "text/html": [
              "<div>\n",
              "<style scoped>\n",
              "    .dataframe tbody tr th:only-of-type {\n",
              "        vertical-align: middle;\n",
              "    }\n",
              "\n",
              "    .dataframe tbody tr th {\n",
              "        vertical-align: top;\n",
              "    }\n",
              "\n",
              "    .dataframe thead th {\n",
              "        text-align: right;\n",
              "    }\n",
              "</style>\n",
              "<table border=\"1\" class=\"dataframe\">\n",
              "  <thead>\n",
              "    <tr style=\"text-align: right;\">\n",
              "      <th></th>\n",
              "      <th>count</th>\n",
              "    </tr>\n",
              "    <tr>\n",
              "      <th>Governorate</th>\n",
              "      <th></th>\n",
              "    </tr>\n",
              "  </thead>\n",
              "  <tbody>\n",
              "    <tr>\n",
              "      <th>Cairo</th>\n",
              "      <td>7042</td>\n",
              "    </tr>\n",
              "    <tr>\n",
              "      <th>Giza</th>\n",
              "      <td>4628</td>\n",
              "    </tr>\n",
              "    <tr>\n",
              "      <th>Alexandria</th>\n",
              "      <td>2819</td>\n",
              "    </tr>\n",
              "    <tr>\n",
              "      <th>Dakahlia</th>\n",
              "      <td>2399</td>\n",
              "    </tr>\n",
              "    <tr>\n",
              "      <th>Sharkia</th>\n",
              "      <td>2319</td>\n",
              "    </tr>\n",
              "    <tr>\n",
              "      <th>Qaliubiya</th>\n",
              "      <td>2219</td>\n",
              "    </tr>\n",
              "    <tr>\n",
              "      <th>Gharbiya</th>\n",
              "      <td>2126</td>\n",
              "    </tr>\n",
              "    <tr>\n",
              "      <th>Menofia</th>\n",
              "      <td>2008</td>\n",
              "    </tr>\n",
              "    <tr>\n",
              "      <th>Assiut</th>\n",
              "      <td>1259</td>\n",
              "    </tr>\n",
              "    <tr>\n",
              "      <th>Beheira</th>\n",
              "      <td>1238</td>\n",
              "    </tr>\n",
              "    <tr>\n",
              "      <th>Minya</th>\n",
              "      <td>1206</td>\n",
              "    </tr>\n",
              "    <tr>\n",
              "      <th>Beni Suef</th>\n",
              "      <td>1056</td>\n",
              "    </tr>\n",
              "    <tr>\n",
              "      <th>Sohag</th>\n",
              "      <td>1028</td>\n",
              "    </tr>\n",
              "    <tr>\n",
              "      <th>Kafr Al sheikh</th>\n",
              "      <td>949</td>\n",
              "    </tr>\n",
              "    <tr>\n",
              "      <th>Fayoum</th>\n",
              "      <td>934</td>\n",
              "    </tr>\n",
              "    <tr>\n",
              "      <th>Qena</th>\n",
              "      <td>659</td>\n",
              "    </tr>\n",
              "    <tr>\n",
              "      <th>Damietta</th>\n",
              "      <td>606</td>\n",
              "    </tr>\n",
              "    <tr>\n",
              "      <th>Ismailia</th>\n",
              "      <td>467</td>\n",
              "    </tr>\n",
              "    <tr>\n",
              "      <th>Aswan</th>\n",
              "      <td>311</td>\n",
              "    </tr>\n",
              "    <tr>\n",
              "      <th>Suez</th>\n",
              "      <td>281</td>\n",
              "    </tr>\n",
              "    <tr>\n",
              "      <th>Port Said</th>\n",
              "      <td>263</td>\n",
              "    </tr>\n",
              "    <tr>\n",
              "      <th>Luxor</th>\n",
              "      <td>250</td>\n",
              "    </tr>\n",
              "    <tr>\n",
              "      <th>Red Sea</th>\n",
              "      <td>143</td>\n",
              "    </tr>\n",
              "    <tr>\n",
              "      <th>North Sinai</th>\n",
              "      <td>105</td>\n",
              "    </tr>\n",
              "    <tr>\n",
              "      <th>New Valley</th>\n",
              "      <td>97</td>\n",
              "    </tr>\n",
              "    <tr>\n",
              "      <th>Marsa Matrouh</th>\n",
              "      <td>82</td>\n",
              "    </tr>\n",
              "    <tr>\n",
              "      <th>South Sinai</th>\n",
              "      <td>46</td>\n",
              "    </tr>\n",
              "  </tbody>\n",
              "</table>\n",
              "</div><br><label><b>dtype:</b> int64</label>"
            ]
          },
          "metadata": {},
          "execution_count": 32
        }
      ]
    },
    {
      "cell_type": "code",
      "execution_count": 33,
      "metadata": {
        "id": "fBkeCMUfTdUE"
      },
      "outputs": [],
      "source": [
        "df.to_excel('trainees_cleaned4.xlsx', index=False)\n",
        "\n",
        "#from google.colab import files\n",
        "#files.download('trainees_cleaned4.xlsx')\n"
      ]
    }
  ],
  "metadata": {
    "colab": {
      "provenance": [],
      "include_colab_link": true
    },
    "kernelspec": {
      "display_name": "Python 3",
      "name": "python3"
    },
    "language_info": {
      "name": "python"
    }
  },
  "nbformat": 4,
  "nbformat_minor": 0
}